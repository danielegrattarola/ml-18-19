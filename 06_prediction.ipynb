{
  "nbformat": 4,
  "nbformat_minor": 0,
  "metadata": {
    "colab": {
      "name": "06_prediction.ipynb",
      "version": "0.3.2",
      "provenance": [],
      "include_colab_link": true
    },
    "kernelspec": {
      "name": "python3",
      "display_name": "Python 3"
    }
  },
  "cells": [
    {
      "cell_type": "markdown",
      "metadata": {
        "id": "view-in-github",
        "colab_type": "text"
      },
      "source": [
        "<a href=\"https://colab.research.google.com/github/danielegrattarola/ml-18-19/blob/master/06_prediction.ipynb\" target=\"_parent\"><img src=\"https://colab.research.google.com/assets/colab-badge.svg\" alt=\"Open In Colab\"/></a>"
      ]
    },
    {
      "cell_type": "markdown",
      "metadata": {
        "id": "mgAz8ZFSuJRl",
        "colab_type": "text"
      },
      "source": [
        "\n",
        "# Machine Learning\n",
        "\n",
        "Prof. Cesare Alippi\n",
        "\n",
        "Daniele Grattarola (daniele.grattarola@usi.ch )\n",
        "\n",
        "Daniele Zambon (daniele.zambon@usi.ch )"
      ]
    },
    {
      "cell_type": "code",
      "metadata": {
        "id": "C8g9xm0BvIKt",
        "colab_type": "code",
        "colab": {}
      },
      "source": [
        "import numpy as np\n",
        "import matplotlib.pyplot as plt\n",
        "from bs4 import BeautifulSoup\n",
        "import requests\n",
        "import pandas as pd\n",
        "import pandas_datareader.data as web\n",
        "from datetime import datetime"
      ],
      "execution_count": 0,
      "outputs": []
    },
    {
      "cell_type": "markdown",
      "metadata": {
        "id": "oLBJvufzud0Y",
        "colab_type": "text"
      },
      "source": [
        "# Toy problem\n",
        "\n",
        "Let's try to predict $$y(t) = sin(\\omega t) + \\epsilon$$"
      ]
    },
    {
      "cell_type": "code",
      "metadata": {
        "id": "xF74DBOzu3at",
        "colab_type": "code",
        "colab": {}
      },
      "source": [
        "omega = 10  # Angular frequency of signal\n",
        "x = np.linspace(0, 2 * np.pi, 2000)\n",
        "data = np.sin(omega * x) + np.random.normal(0, 0.0, size=x.shape)\n",
        "plt.plot(x, data)"
      ],
      "execution_count": 0,
      "outputs": []
    },
    {
      "cell_type": "markdown",
      "metadata": {
        "id": "jeuhMQA43FPq",
        "colab_type": "text"
      },
      "source": [
        "We create an helper function that given a time series \n",
        "$$[x_{t_0}, x_{t_1}, x_{t_2}, x_{t_3} \\dots]$$\n",
        "builds a dataset of observations that we can use to train our AR model of order $p$: \n",
        "\n",
        "$$\n",
        "X = \\left[ \n",
        "\\begin{array}{c}\n",
        "x_{t_0}, \\dots, x_{t_0 + p - 1} \\\\\n",
        "x_{t_1}, \\dots, x_{t_1 + p - 1} \\\\\n",
        "x_{t_2}, \\dots, x_{t_2 + p - 1} \\\\\n",
        "\\vdots \\\\\n",
        "\\end{array}\n",
        "\\right]\\textrm{ }\n",
        "Y = \\left[ \n",
        "\\begin{array}{c}\n",
        "x_{t_0 + p} \\\\\n",
        "x_{t_1 + p} \\\\\n",
        "x_{t_2 + p} \\\\\n",
        "\\vdots \\\\\n",
        "\\end{array}\n",
        "\\right] \n",
        "$$\n",
        "\n",
        "\n"
      ]
    },
    {
      "cell_type": "code",
      "metadata": {
        "id": "hr6lTTA4vN7L",
        "colab_type": "code",
        "colab": {}
      },
      "source": [
        "def get_sequences_and_targets(data, k):\n",
        "    '''\n",
        "    Function to create pairs of sequences and targets\n",
        "    '''\n",
        "    time = np.arange(data.shape[0])\n",
        "    inputs = []\n",
        "    targets = []\n",
        "    for t in time[:-k]:\n",
        "        inputs.append(data[t:t+k])\n",
        "        targets.append(data[t+k])\n",
        "    inputs = np.array(inputs)\n",
        "    targets = np.array(targets)\n",
        "\n",
        "    return inputs, targets"
      ],
      "execution_count": 0,
      "outputs": []
    },
    {
      "cell_type": "markdown",
      "metadata": {
        "id": "ct-I9Qrp5nuf",
        "colab_type": "text"
      },
      "source": [
        "The data pre-processing is as usual: we create a training and a test set. Note that in this case the test set cannot be sampled randomly, but must be taken \"at the end\" of our data, in order to see whether the model is able to generalize. "
      ]
    },
    {
      "cell_type": "code",
      "metadata": {
        "id": "bCIAm8_PvahK",
        "colab_type": "code",
        "colab": {}
      },
      "source": [
        "# Prep the data for training model\n",
        "k = 2\n",
        "inputs, targets = get_sequences_and_targets(data, k=k)\n",
        "\n",
        "# Split training and test sets\n",
        "test_split = int(len(targets) * 0.9)\n",
        "x_train, x_test = inputs[:test_split], inputs[test_split:]\n",
        "y_train, y_test = targets[:test_split], targets[test_split:]"
      ],
      "execution_count": 0,
      "outputs": []
    },
    {
      "cell_type": "markdown",
      "metadata": {
        "id": "KbLng20R51rk",
        "colab_type": "text"
      },
      "source": [
        "Let's fit a linear autoregressive model: \n",
        "$$\n",
        "y(t) = \\sum\\limits_{i=1}^{p} x_{t - i} \\phi_i = x_{t-1}\\phi_1 + \\dots + x_{t-p}\\phi_p\n",
        "$$\n",
        "\n",
        "using the standard linear regression techniques that we have seen.\n",
        "\n"
      ]
    },
    {
      "cell_type": "code",
      "metadata": {
        "id": "XDxhNM_zv6py",
        "colab_type": "code",
        "colab": {}
      },
      "source": [
        "# Linear autoregression\n",
        "from sklearn.linear_model import LinearRegression\n",
        "lr = LinearRegression()\n",
        "lr.fit(x_train, y_train)\n",
        "lr_pred = lr.predict(x_test)\n",
        "\n",
        "plt.title('Autoregressive')\n",
        "plt.plot(y_test, label='True')\n",
        "plt.plot(lr_pred, label='Pred')\n",
        "plt.legend()"
      ],
      "execution_count": 0,
      "outputs": []
    },
    {
      "cell_type": "markdown",
      "metadata": {
        "id": "sC24GZiM8Dzj",
        "colab_type": "text"
      },
      "source": [
        "In this simple case, we know that $y=\\sin(\\omega x)$ can be rewritten as \n",
        "\n",
        "$$\n",
        "y(t) = \\sin(\\omega x_t) = 2 \\cos(\\omega) x_{t - 1} - x_{t - 2}\n",
        "$$\n",
        "\n",
        "Was the model able to find these exact values?"
      ]
    },
    {
      "cell_type": "code",
      "metadata": {
        "id": "kFsl3YW88HsJ",
        "colab_type": "code",
        "colab": {}
      },
      "source": [
        "print('Analytical coefficients: {:.2f}, {:.2f}'.format(-1, 2 * np.cos(omega)))\n",
        "print('Learned coefficients: {:.2f}, {:.2f}'.format(*lr.coef_))"
      ],
      "execution_count": 0,
      "outputs": []
    },
    {
      "cell_type": "markdown",
      "metadata": {
        "id": "t58LYqa9zzmU",
        "colab_type": "text"
      },
      "source": [
        "# Predicting the stock market"
      ]
    },
    {
      "cell_type": "markdown",
      "metadata": {
        "id": "YsdMsLSa0Vr-",
        "colab_type": "text"
      },
      "source": [
        "First, we create a couple of helper functions to download the historical price data from the internet. "
      ]
    },
    {
      "cell_type": "code",
      "metadata": {
        "id": "MIkVN9erz23X",
        "colab_type": "code",
        "colab": {}
      },
      "source": [
        "COLUMNS = ['open','high','low','close','volume']\n",
        "\n",
        "def get_crypto(name, start, end):\n",
        "    '''\n",
        "    Get price history of given cryptocurrency from coinmarketcap.com\n",
        "    '''\n",
        "    start_str = start.strftime('%Y%m%d') \n",
        "    stop_str = end.strftime('%Y%m%d') \n",
        "    url = 'https://coinmarketcap.com/currencies/{}/historical-data/?start={}&end={}'.format(name, start_str, stop_str)\n",
        "\n",
        "    # Get data\n",
        "    content = requests.get(url).content\n",
        "    soup = BeautifulSoup(content,'html.parser')\n",
        "    table = soup.find('table', {'class': 'table'})\n",
        "\n",
        "    # Process raw html\n",
        "    data = [[td.text.strip() for td in tr.findChildren('td')] \n",
        "            for tr in table.findChildren('tr')]\n",
        "\n",
        "    # Convert to CSV\n",
        "    df = pd.DataFrame(data)\n",
        "    df.drop(df.index[0], inplace=True) # first row is empty\n",
        "    df[0] =  pd.to_datetime(df[0]) # date\n",
        "    for i in range(1,7):\n",
        "        df[i] = pd.to_numeric(df[i].str.replace(\",\",\"\").str.replace(\"-\",\"\")) # some vol is missing and has -\n",
        "    df.columns = ['date','open','high','low','close','volume','market_cap']\n",
        "    df.set_index('date',inplace=True)\n",
        "    df.sort_index(inplace=True)\n",
        "\n",
        "    return df[COLUMNS]\n",
        "\n",
        "\n",
        "def get_stock(name, start, end):\n",
        "    '''\n",
        "    Get price history of stock from iextrading.com\n",
        "    '''\n",
        "    df = web.DataReader('AAPL', 'iex', start, end)\n",
        "    df.sort_index(inplace=True)\n",
        "\n",
        "    return df[COLUMNS]"
      ],
      "execution_count": 0,
      "outputs": []
    },
    {
      "cell_type": "markdown",
      "metadata": {
        "id": "AJu6h8k78O1I",
        "colab_type": "text"
      },
      "source": [
        "The workflow is the same as above, except that this time we take the logarithm of the data in order to rescale it."
      ]
    },
    {
      "cell_type": "code",
      "metadata": {
        "id": "NXkM4ydi0eES",
        "colab_type": "code",
        "colab": {}
      },
      "source": [
        "# Get the data\n",
        "start = datetime(2014, 5, 26)\n",
        "end   = datetime(2019, 5, 26)\n",
        "aapl_stock = get_stock('AAPL', start, end)\n",
        "bitcoin = get_crypto('bitcoin', start, end)\n",
        "\n",
        "data = aapl_stock['close'].values\n",
        "data = np.log(data)  # Take log to simplify things\n",
        "\n",
        "plt.plot(data)"
      ],
      "execution_count": 0,
      "outputs": []
    },
    {
      "cell_type": "markdown",
      "metadata": {
        "id": "ozBYRmFf0seV",
        "colab_type": "text"
      },
      "source": [
        "Let's try the same linear autoregressive model that we used for the sine. "
      ]
    },
    {
      "cell_type": "code",
      "metadata": {
        "id": "Fx_w0xM602JD",
        "colab_type": "code",
        "colab": {}
      },
      "source": [
        "# Create sequences and targets\n",
        "k = 5\n",
        "inputs, targets = get_sequences_and_targets(data, k=k)\n",
        "test_split = int(len(targets) * 0.9)\n",
        "x_train, x_test = inputs[:test_split], inputs[test_split:]\n",
        "y_train, y_test = targets[:test_split], targets[test_split:]\n",
        "\n",
        "# Linear autoregressive model\n",
        "from sklearn.linear_model import LinearRegression\n",
        "lr = LinearRegression()\n",
        "lr.fit(x_train, y_train)\n",
        "lr_pred = lr.predict(x_test)\n",
        "\n",
        "plt.figure()\n",
        "plt.title('Autoregressive')\n",
        "plt.plot(y_test, label='True')\n",
        "plt.plot(lr_pred, label='Pred')\n",
        "plt.legend()"
      ],
      "execution_count": 0,
      "outputs": []
    },
    {
      "cell_type": "markdown",
      "metadata": {
        "id": "K77JqrD21hME",
        "colab_type": "text"
      },
      "source": [
        "Now let's try something more complicated..."
      ]
    },
    {
      "cell_type": "code",
      "metadata": {
        "id": "PV8lpwnv1la4",
        "colab_type": "code",
        "colab": {}
      },
      "source": [
        "# Nonlinear autoregressive model\n",
        "from keras.models import Sequential\n",
        "from keras.layers import Dense\n",
        "from keras.callbacks import EarlyStopping, ModelCheckpoint\n",
        "\n",
        "nn = Sequential([\n",
        "        Dense(32, activation='relu', input_shape=(k, )),\n",
        "        Dense(32, activation='relu'),\n",
        "        Dense(1)\n",
        "    ])\n",
        "nn.compile('adam', 'mse')\n",
        "callbacks = [\n",
        "    EarlyStopping(monitor='val_loss', patience=100),\n",
        "    ModelCheckpoint('best_model.h5', save_weights_only=True, save_best_only=True)\n",
        "]\n",
        "nn.fit(x_train, y_train, \n",
        "       epochs=10000, validation_split=0.1,\n",
        "       callbacks=callbacks)\n",
        "nn.load_weights('best_model.h5')\n",
        "nn_pred = nn.predict(x_test)\n",
        "\n",
        "plt.figure()\n",
        "plt.title('Non-linear Autoregressive')\n",
        "plt.plot(y_test, label='True')\n",
        "plt.plot(nn_pred, label='Pred')\n",
        "plt.legend()"
      ],
      "execution_count": 0,
      "outputs": []
    }
  ]
}