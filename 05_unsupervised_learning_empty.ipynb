{
 "cells": [
  {
   "cell_type": "markdown",
   "metadata": {
    "colab_type": "text",
    "id": "xK6oJGO3smnq"
   },
   "source": [
    "[![Open In Colab](https://colab.research.google.com/assets/colab-badge.svg)](https://colab.research.google.com/github/danielegrattarola/ml-18-19/blob/master/01_linear_regression.ipynb)\n",
    "\n",
    "# Machine Learning\n",
    "\n",
    "Prof. Cesare Alippi  \n",
    "Daniele Grattarola  ([`daniele.grattarola@usi.ch`](mailto:daniele.grattarola@usi.ch)  )    \n",
    "Daniele Zambon ([`daniele.zambon@usi.ch`](mailto:daniele.zambon@usi.ch)  )\n",
    "\n",
    "---\n",
    "# Lab 05: Unsupervised learning\n",
    "\n",
    "## Example: Iris dataset"
   ]
  },
  {
   "cell_type": "code",
   "execution_count": 2,
   "metadata": {
    "colab": {},
    "colab_type": "code",
    "id": "hi5yKDwV8Sqn"
   },
   "outputs": [],
   "source": [
    "from sklearn import datasets\n",
    "\n",
    "# load the data\n",
    "iris = datasets.load_iris()"
   ]
  },
  {
   "cell_type": "markdown",
   "metadata": {
    "colab_type": "text",
    "id": "VQBUbZJibuTW"
   },
   "source": [
    "### Let's get a sense of the data set:\n",
    "\n",
    "* See [sklearn documentation](https://scikit-learn.org/stable/modules/generated/sklearn.datasets.load_iris.html#sklearn.datasets.load_iris)"
   ]
  },
  {
   "cell_type": "code",
   "execution_count": null,
   "metadata": {
    "colab": {
     "base_uri": "https://localhost:8080/",
     "height": 35
    },
    "colab_type": "code",
    "id": "3z_W45ac2b_m",
    "outputId": "f984e0d1-ee09-4f33-c07c-0e31a078f4d2"
   },
   "outputs": [],
   "source": []
  },
  {
   "cell_type": "markdown",
   "metadata": {
    "colab_type": "text",
    "id": "Aa_Hk2OAu5Sj"
   },
   "source": [
    "### Explore the data\n"
   ]
  },
  {
   "cell_type": "code",
   "execution_count": null,
   "metadata": {
    "colab": {
     "base_uri": "https://localhost:8080/",
     "height": 88
    },
    "colab_type": "code",
    "id": "oOcsH8-csmMt",
    "outputId": "38cef778-9af8-40a1-9a3f-7563b67596f1"
   },
   "outputs": [],
   "source": []
  },
  {
   "cell_type": "markdown",
   "metadata": {
    "colab_type": "text",
    "id": "I70KdBun9jmp"
   },
   "source": [
    "## Principal Component Analysis\n",
    "\n",
    "* Subtract the mean\n",
    "* (should we rescale?)\n",
    "* Compute the matrix $\\Sigma = X^\\top X$\n",
    "* Eigen-decomposition $ U \\Lambda U^\\top = \\Sigma$ \n",
    "\n",
    "**Remark 1:** Recall eigenvalues and eigenvectors: $\\Sigma \\vec u = \\lambda \\vec u$\n",
    "\n",
    "Now apply the transformation\n",
    "1. Lossless rotation $U^\\top \\vec x$ to each vector.\n",
    "2. Lossy transformation:\n",
    "    - Discard some eigen-vectors $\\tilde U\\leftarrow U$\n",
    "    - apply transformation $\\tilde U^\\top \\vec x$ to each vector.\n",
    "\n",
    "**Remark 2:** To transform the entire dataset, simply do $XU$ or $X\\tilde U$.\n",
    "\n"
   ]
  },
  {
   "cell_type": "code",
   "execution_count": null,
   "metadata": {
    "colab": {
     "base_uri": "https://localhost:8080/",
     "height": 304
    },
    "colab_type": "code",
    "id": "JDQf58ENAxuv",
    "outputId": "38afc32a-2f84-42ed-ae4e-afd6086daa48"
   },
   "outputs": [],
   "source": []
  },
  {
   "cell_type": "markdown",
   "metadata": {},
   "source": [
    "### Performance degradation in classification"
   ]
  },
  {
   "cell_type": "code",
   "execution_count": null,
   "metadata": {
    "colab": {
     "base_uri": "https://localhost:8080/",
     "height": 70
    },
    "colab_type": "code",
    "id": "98wnqp-QC_Ej",
    "outputId": "d8541da1-55c3-4e75-a6d7-1d5d0d7b5b14"
   },
   "outputs": [],
   "source": []
  },
  {
   "cell_type": "markdown",
   "metadata": {
    "colab_type": "text",
    "id": "mmvk-zM9Tx6y"
   },
   "source": [
    "# Clustering: k-means\n",
    "[https://scikit-learn.org/stable/modules/clustering.html\n",
    "](https://scikit-learn.org/stable/modules/clustering.html)"
   ]
  },
  {
   "cell_type": "markdown",
   "metadata": {
    "colab_type": "text",
    "id": "GGlmm-BfwRPI"
   },
   "source": [
    "### Optimal number of clusters"
   ]
  },
  {
   "cell_type": "code",
   "execution_count": null,
   "metadata": {
    "colab": {
     "base_uri": "https://localhost:8080/",
     "height": 627
    },
    "colab_type": "code",
    "id": "L3k8P9EU7m9P",
    "outputId": "b71664ea-4dea-4c67-dbb2-1f2ae4cc66d0"
   },
   "outputs": [],
   "source": []
  },
  {
   "cell_type": "code",
   "execution_count": null,
   "metadata": {},
   "outputs": [],
   "source": []
  }
 ],
 "metadata": {
  "colab": {
   "collapsed_sections": [],
   "name": "Untitled1.ipynb",
   "provenance": [],
   "version": "0.3.2"
  },
  "kernelspec": {
   "display_name": "Python 3",
   "language": "python",
   "name": "python3"
  },
  "language_info": {
   "codemirror_mode": {
    "name": "ipython",
    "version": 3
   },
   "file_extension": ".py",
   "mimetype": "text/x-python",
   "name": "python",
   "nbconvert_exporter": "python",
   "pygments_lexer": "ipython3",
   "version": "3.6.7"
  }
 },
 "nbformat": 4,
 "nbformat_minor": 1
}
