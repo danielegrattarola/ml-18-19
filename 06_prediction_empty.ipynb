{
  "nbformat": 4,
  "nbformat_minor": 0,
  "metadata": {
    "colab": {
      "name": "06_prediction_empty.ipynb",
      "version": "0.3.2",
      "provenance": [],
      "include_colab_link": true
    },
    "kernelspec": {
      "name": "python3",
      "display_name": "Python 3"
    }
  },
  "cells": [
    {
      "cell_type": "markdown",
      "metadata": {
        "id": "view-in-github",
        "colab_type": "text"
      },
      "source": [
        "<a href=\"https://colab.research.google.com/github/danielegrattarola/ml-18-19/blob/master/06_prediction_empty.ipynb\" target=\"_parent\"><img src=\"https://colab.research.google.com/assets/colab-badge.svg\" alt=\"Open In Colab\"/></a>"
      ]
    },
    {
      "cell_type": "markdown",
      "metadata": {
        "id": "mgAz8ZFSuJRl",
        "colab_type": "text"
      },
      "source": [
        "\n",
        "# Machine Learning\n",
        "\n",
        "Prof. Cesare Alippi\n",
        "\n",
        "Daniele Grattarola (daniele.grattarola@usi.ch )\n",
        "\n",
        "Daniele Zambon (daniele.zambon@usi.ch )"
      ]
    },
    {
      "cell_type": "code",
      "metadata": {
        "id": "C8g9xm0BvIKt",
        "colab_type": "code",
        "colab": {}
      },
      "source": [
        "import numpy as np\n",
        "import matplotlib.pyplot as plt\n",
        "from bs4 import BeautifulSoup\n",
        "import requests\n",
        "import pandas as pd\n",
        "import pandas_datareader.data as web\n",
        "from datetime import datetime"
      ],
      "execution_count": 0,
      "outputs": []
    },
    {
      "cell_type": "markdown",
      "metadata": {
        "id": "oLBJvufzud0Y",
        "colab_type": "text"
      },
      "source": [
        "# Toy problem\n",
        "\n",
        "Let's try to predict $$y(t) = sin(\\omega t) + \\epsilon$$"
      ]
    },
    {
      "cell_type": "code",
      "metadata": {
        "id": "xF74DBOzu3at",
        "colab_type": "code",
        "colab": {}
      },
      "source": [
        ""
      ],
      "execution_count": 0,
      "outputs": []
    },
    {
      "cell_type": "markdown",
      "metadata": {
        "id": "jeuhMQA43FPq",
        "colab_type": "text"
      },
      "source": [
        "We create an helper function that given a time series \n",
        "$$[x_{t_0}, x_{t_1}, x_{t_2}, x_{t_3} \\dots]$$\n",
        "builds a dataset of observations that we can use to train our AR model of order $p$: \n",
        "\n",
        "$$\n",
        "X = \\left[ \n",
        "\\begin{array}{c}\n",
        "x_{t_0}, \\dots, x_{t_0 + p - 1} \\\\\n",
        "x_{t_1}, \\dots, x_{t_1 + p - 1} \\\\\n",
        "x_{t_2}, \\dots, x_{t_2 + p - 1} \\\\\n",
        "\\vdots \\\\\n",
        "\\end{array}\n",
        "\\right]\\textrm{ }\n",
        "Y = \\left[ \n",
        "\\begin{array}{c}\n",
        "x_{t_0 + p} \\\\\n",
        "x_{t_1 + p} \\\\\n",
        "x_{t_2 + p} \\\\\n",
        "\\vdots \\\\\n",
        "\\end{array}\n",
        "\\right] \n",
        "$$\n",
        "\n",
        "\n"
      ]
    },
    {
      "cell_type": "code",
      "metadata": {
        "id": "hr6lTTA4vN7L",
        "colab_type": "code",
        "colab": {}
      },
      "source": [
        ""
      ],
      "execution_count": 0,
      "outputs": []
    },
    {
      "cell_type": "markdown",
      "metadata": {
        "id": "ct-I9Qrp5nuf",
        "colab_type": "text"
      },
      "source": [
        "The data pre-processing is as usual: we create a training and a test set. Note that in this case the test set cannot be sampled randomly, but must be taken \"at the end\" of our data, in order to see whether the model is able to generalize. "
      ]
    },
    {
      "cell_type": "code",
      "metadata": {
        "id": "bCIAm8_PvahK",
        "colab_type": "code",
        "colab": {}
      },
      "source": [
        ""
      ],
      "execution_count": 0,
      "outputs": []
    },
    {
      "cell_type": "markdown",
      "metadata": {
        "id": "KbLng20R51rk",
        "colab_type": "text"
      },
      "source": [
        "Let's fit a linear autoregressive model: \n",
        "$$\n",
        "y(t) = \\sum\\limits_{i=1}^{p} x_{t - i} \\phi_i = x_{t-1}\\phi_1 + \\dots + x_{t-p}\\phi_p\n",
        "$$\n",
        "\n",
        "using the standard linear regression techniques that we have seen.\n",
        "\n"
      ]
    },
    {
      "cell_type": "code",
      "metadata": {
        "id": "XDxhNM_zv6py",
        "colab_type": "code",
        "colab": {}
      },
      "source": [
        ""
      ],
      "execution_count": 0,
      "outputs": []
    },
    {
      "cell_type": "markdown",
      "metadata": {
        "id": "sC24GZiM8Dzj",
        "colab_type": "text"
      },
      "source": [
        "In this simple case, we know that $y=\\sin(\\omega x)$ can be rewritten as \n",
        "\n",
        "$$\n",
        "y(t) = \\sin(\\omega x_t) = 2 \\cos(\\omega) x_{t - 1} - x_{t - 2}\n",
        "$$\n",
        "\n",
        "Was the model able to find these exact values?"
      ]
    },
    {
      "cell_type": "code",
      "metadata": {
        "id": "kFsl3YW88HsJ",
        "colab_type": "code",
        "colab": {}
      },
      "source": [
        ""
      ],
      "execution_count": 0,
      "outputs": []
    },
    {
      "cell_type": "markdown",
      "metadata": {
        "id": "t58LYqa9zzmU",
        "colab_type": "text"
      },
      "source": [
        "# Predicting the stock market"
      ]
    },
    {
      "cell_type": "markdown",
      "metadata": {
        "id": "YsdMsLSa0Vr-",
        "colab_type": "text"
      },
      "source": [
        "First, we create a couple of helper functions to download the historical price data from the internet. "
      ]
    },
    {
      "cell_type": "code",
      "metadata": {
        "id": "MIkVN9erz23X",
        "colab_type": "code",
        "colab": {}
      },
      "source": [
        ""
      ],
      "execution_count": 0,
      "outputs": []
    },
    {
      "cell_type": "markdown",
      "metadata": {
        "id": "AJu6h8k78O1I",
        "colab_type": "text"
      },
      "source": [
        "The workflow is the same as above, except that this time we take the logarithm of the data in order to rescale it."
      ]
    },
    {
      "cell_type": "code",
      "metadata": {
        "id": "NXkM4ydi0eES",
        "colab_type": "code",
        "colab": {}
      },
      "source": [
        ""
      ],
      "execution_count": 0,
      "outputs": []
    },
    {
      "cell_type": "markdown",
      "metadata": {
        "id": "ozBYRmFf0seV",
        "colab_type": "text"
      },
      "source": [
        "Let's try the same linear autoregressive model that we used for the sine. "
      ]
    },
    {
      "cell_type": "code",
      "metadata": {
        "id": "Fx_w0xM602JD",
        "colab_type": "code",
        "colab": {}
      },
      "source": [
        ""
      ],
      "execution_count": 0,
      "outputs": []
    },
    {
      "cell_type": "markdown",
      "metadata": {
        "id": "K77JqrD21hME",
        "colab_type": "text"
      },
      "source": [
        "Now let's try something more complicated..."
      ]
    },
    {
      "cell_type": "code",
      "metadata": {
        "id": "PV8lpwnv1la4",
        "colab_type": "code",
        "colab": {}
      },
      "source": [
        ""
      ],
      "execution_count": 0,
      "outputs": []
    }
  ]
}